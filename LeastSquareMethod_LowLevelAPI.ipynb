{
  "nbformat": 4,
  "nbformat_minor": 0,
  "metadata": {
    "colab": {
      "name": "LeastSquareMethod_LowLevelAPI.ipynb",
      "provenance": [],
      "authorship_tag": "ABX9TyNHTrCEaB1tbSdA9Z6FuYyO",
      "include_colab_link": true
    },
    "kernelspec": {
      "name": "python3",
      "display_name": "Python 3"
    },
    "accelerator": "GPU"
  },
  "cells": [
    {
      "cell_type": "markdown",
      "metadata": {
        "id": "view-in-github",
        "colab_type": "text"
      },
      "source": [
        "<a href=\"https://colab.research.google.com/github/uuuno/tf_doodle/blob/master/LeastSquareMethod_LowLevelAPI.ipynb\" target=\"_parent\"><img src=\"https://colab.research.google.com/assets/colab-badge.svg\" alt=\"Open In Colab\"/></a>"
      ]
    },
    {
      "cell_type": "markdown",
      "metadata": {
        "id": "fRfTKjnXRzHr",
        "colab_type": "text"
      },
      "source": [
        "## TF Low-level API"
      ]
    },
    {
      "cell_type": "code",
      "metadata": {
        "id": "jFfzN9RTUCHP",
        "colab_type": "code",
        "colab": {
          "base_uri": "https://localhost:8080/",
          "height": 34
        },
        "outputId": "137384c8-78c9-405c-c5e4-58ba01f93bba"
      },
      "source": [
        "%tensorflow_version 1.x"
      ],
      "execution_count": 1,
      "outputs": [
        {
          "output_type": "stream",
          "text": [
            "TensorFlow 1.x selected.\n"
          ],
          "name": "stdout"
        }
      ]
    },
    {
      "cell_type": "code",
      "metadata": {
        "id": "w1nZasbCRTqV",
        "colab_type": "code",
        "colab": {}
      },
      "source": [
        "import numpy as np\n",
        "import matplotlib.pyplot as plt\n",
        "import tensorflow as tf"
      ],
      "execution_count": 2,
      "outputs": []
    },
    {
      "cell_type": "code",
      "metadata": {
        "id": "S8BuNUOdRyYn",
        "colab_type": "code",
        "colab": {}
      },
      "source": [
        "train_t = np.array([\n",
        "                    5.2,\n",
        "                    5.7,\n",
        "                    8.6,\n",
        "                    14.9,\n",
        "                    18.2,\n",
        "                    20.4,\n",
        "                    25.5,\n",
        "                    26.4,\n",
        "                    22.8,\n",
        "                    17.5,\n",
        "                    11.1,\n",
        "                    6.6\n",
        "])"
      ],
      "execution_count": 3,
      "outputs": []
    },
    {
      "cell_type": "code",
      "metadata": {
        "id": "PeKhN8UCS86F",
        "colab_type": "code",
        "colab": {}
      },
      "source": [
        "train_t = train_t.reshape([12,1])"
      ],
      "execution_count": 4,
      "outputs": []
    },
    {
      "cell_type": "code",
      "metadata": {
        "id": "870mrodSTCFv",
        "colab_type": "code",
        "colab": {}
      },
      "source": [
        "train_x = np.array([ [mon**n for n in range(0, 5)] for mon in range(1, 13)])"
      ],
      "execution_count": 5,
      "outputs": []
    },
    {
      "cell_type": "code",
      "metadata": {
        "id": "T3cLMNw_TDrc",
        "colab_type": "code",
        "colab": {}
      },
      "source": [
        "x = tf.placeholder(tf.float32, [None, 5])"
      ],
      "execution_count": 6,
      "outputs": []
    },
    {
      "cell_type": "code",
      "metadata": {
        "id": "Kg4Z7DFrTi02",
        "colab_type": "code",
        "colab": {}
      },
      "source": [
        "w = tf.Variable(tf.zeros([5, 1]))"
      ],
      "execution_count": 7,
      "outputs": []
    },
    {
      "cell_type": "code",
      "metadata": {
        "id": "rAF5634BUgkM",
        "colab_type": "code",
        "colab": {}
      },
      "source": [
        "y = tf.matmul(x, w)"
      ],
      "execution_count": 10,
      "outputs": []
    },
    {
      "cell_type": "code",
      "metadata": {
        "id": "SlwrK5YyUu5U",
        "colab_type": "code",
        "colab": {}
      },
      "source": [
        "t = tf.placeholder(tf.float32, [None, 1])"
      ],
      "execution_count": 11,
      "outputs": []
    },
    {
      "cell_type": "code",
      "metadata": {
        "id": "BC40uxvDU5UD",
        "colab_type": "code",
        "colab": {}
      },
      "source": [
        "loss = tf.reduce_sum(tf.square(y-t))"
      ],
      "execution_count": 12,
      "outputs": []
    },
    {
      "cell_type": "code",
      "metadata": {
        "id": "KpSlVvcoVHAX",
        "colab_type": "code",
        "colab": {}
      },
      "source": [
        "train_step = tf.train.AdamOptimizer().minimize(loss)"
      ],
      "execution_count": 13,
      "outputs": []
    },
    {
      "cell_type": "code",
      "metadata": {
        "id": "aLGy7B8bVWGt",
        "colab_type": "code",
        "colab": {}
      },
      "source": [
        "sess = tf.Session()\n",
        "sess.run(tf.global_variables_initializer())"
      ],
      "execution_count": 14,
      "outputs": []
    },
    {
      "cell_type": "code",
      "metadata": {
        "id": "HC4rg5N-Vc_t",
        "colab_type": "code",
        "colab": {
          "base_uri": "https://localhost:8080/",
          "height": 187
        },
        "outputId": "f6060ed3-cabb-4400-ddb5-80cbf8aafaff"
      },
      "source": [
        "i = 0\n",
        "for _ in range(100000):\n",
        "  i += 1\n",
        "  sess.run(train_step, feed_dict={x:train_x, t:train_t})\n",
        "  if i % 10000 == 0:\n",
        "    loss_val = sess.run(loss, feed_dict={x:train_x, t:train_t})\n",
        "    print(\"Step: \", i, \"\\tLoss: \", loss_val)"
      ],
      "execution_count": 16,
      "outputs": [
        {
          "output_type": "stream",
          "text": [
            "Step:  10000 \tLoss:  20.753553\n",
            "Step:  20000 \tLoss:  20.128706\n",
            "Step:  30000 \tLoss:  19.529371\n",
            "Step:  40000 \tLoss:  18.985298\n",
            "Step:  50000 \tLoss:  18.479834\n",
            "Step:  60000 \tLoss:  18.012241\n",
            "Step:  70000 \tLoss:  17.579357\n",
            "Step:  80000 \tLoss:  17.178448\n",
            "Step:  90000 \tLoss:  16.80624\n",
            "Step:  100000 \tLoss:  16.461517\n"
          ],
          "name": "stdout"
        }
      ]
    },
    {
      "cell_type": "code",
      "metadata": {
        "id": "ocpnsPdEWTv3",
        "colab_type": "code",
        "colab": {
          "base_uri": "https://localhost:8080/",
          "height": 102
        },
        "outputId": "9474a54f-f576-4afd-98cf-2b439a0eda24"
      },
      "source": [
        "sess.run(w)"
      ],
      "execution_count": 17,
      "outputs": [
        {
          "output_type": "execute_result",
          "data": {
            "text/plain": [
              "array([[ 6.1065474 ],\n",
              "       [-4.0423927 ],\n",
              "       [ 2.5106251 ],\n",
              "       [-0.28170168],\n",
              "       [ 0.00834867]], dtype=float32)"
            ]
          },
          "metadata": {
            "tags": []
          },
          "execution_count": 17
        }
      ]
    },
    {
      "cell_type": "code",
      "metadata": {
        "id": "wp3g16TIW_PT",
        "colab_type": "code",
        "colab": {}
      },
      "source": [
        "ws = sess.run(w)\n",
        "def predict(x):\n",
        "  pred = sum([ ws[n][0] * x**n for n in range(0, 5) ])\n",
        "  return pred"
      ],
      "execution_count": 20,
      "outputs": []
    },
    {
      "cell_type": "code",
      "metadata": {
        "id": "t8UQSXDpXQNX",
        "colab_type": "code",
        "colab": {
          "base_uri": "https://localhost:8080/",
          "height": 282
        },
        "outputId": "7e7a1a1d-94fc-4914-822c-1df051c75ba6"
      },
      "source": [
        "fig = plt.figure()\n",
        "subplot = fig.add_subplot(1, 1, 1)\n",
        "subplot.set_xlim(1, 12)\n",
        "subplot.set_xticks(range(1, 13))\n",
        "subplot.scatter(range(1, 13), train_t)\n",
        "xs = np.linspace(1, 12, 100)\n",
        "ys = predict(xs)\n",
        "subplot.plot(xs, ys)"
      ],
      "execution_count": 26,
      "outputs": [
        {
          "output_type": "execute_result",
          "data": {
            "text/plain": [
              "[<matplotlib.lines.Line2D at 0x7f93c92bfc18>]"
            ]
          },
          "metadata": {
            "tags": []
          },
          "execution_count": 26
        },
        {
          "output_type": "display_data",
          "data": {
            "image/png": "[encoded data removed]",
            "text/plain": [
              "<Figure size 432x288 with 1 Axes>"
            ]
          },
          "metadata": {
            "tags": [],
            "needs_background": "light"
          }
        }
      ]
    },
    {
      "cell_type": "code",
      "metadata": {
        "id": "ScpoWhspX57t",
        "colab_type": "code",
        "colab": {}
      },
      "source": [
        ""
      ],
      "execution_count": null,
      "outputs": []
    }
  ]
}